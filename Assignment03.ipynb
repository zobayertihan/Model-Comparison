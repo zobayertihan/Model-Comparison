{
  "nbformat": 4,
  "nbformat_minor": 0,
  "metadata": {
    "colab": {
      "provenance": []
    },
    "kernelspec": {
      "name": "python3",
      "display_name": "Python 3"
    },
    "language_info": {
      "name": "python"
    }
  },
  "cells": [
    {
      "cell_type": "code",
      "execution_count": 3,
      "metadata": {
        "id": "KolXkndua1h3"
      },
      "outputs": [],
      "source": [
        "import numpy as np\n",
        "import pandas as pd\n",
        "from sklearn.model_selection import train_test_split\n",
        "from sklearn.metrics import log_loss\n",
        "from sklearn.metrics import accuracy_score\n",
        "import os"
      ]
    },
    {
      "cell_type": "code",
      "source": [
        "lenses = pd.read_csv(\"/content/lenses.data\",sep='\\s+',header=None)\n",
        "lenses.rename(columns={0:'id',1:'age',2:'perscription',3:'astigmatic', 4:'tears',5:'lenses'}, inplace=True)\n",
        "lenses.head(5)"
      ],
      "metadata": {
        "colab": {
          "base_uri": "https://localhost:8080/",
          "height": 206
        },
        "id": "cuieINrJbvIt",
        "outputId": "9e2a1a46-578d-4fc2-82a8-deb36da34b59"
      },
      "execution_count": 4,
      "outputs": [
        {
          "output_type": "execute_result",
          "data": {
            "text/plain": [
              "   id  age  perscription  astigmatic  tears  lenses\n",
              "0   1    1             1           1      1       3\n",
              "1   2    1             1           1      2       2\n",
              "2   3    1             1           2      1       3\n",
              "3   4    1             1           2      2       1\n",
              "4   5    1             2           1      1       3"
            ],
            "text/html": [
              "\n",
              "  <div id=\"df-c3e1591f-3289-47ed-82bc-7e3b264a7316\">\n",
              "    <div class=\"colab-df-container\">\n",
              "      <div>\n",
              "<style scoped>\n",
              "    .dataframe tbody tr th:only-of-type {\n",
              "        vertical-align: middle;\n",
              "    }\n",
              "\n",
              "    .dataframe tbody tr th {\n",
              "        vertical-align: top;\n",
              "    }\n",
              "\n",
              "    .dataframe thead th {\n",
              "        text-align: right;\n",
              "    }\n",
              "</style>\n",
              "<table border=\"1\" class=\"dataframe\">\n",
              "  <thead>\n",
              "    <tr style=\"text-align: right;\">\n",
              "      <th></th>\n",
              "      <th>id</th>\n",
              "      <th>age</th>\n",
              "      <th>perscription</th>\n",
              "      <th>astigmatic</th>\n",
              "      <th>tears</th>\n",
              "      <th>lenses</th>\n",
              "    </tr>\n",
              "  </thead>\n",
              "  <tbody>\n",
              "    <tr>\n",
              "      <th>0</th>\n",
              "      <td>1</td>\n",
              "      <td>1</td>\n",
              "      <td>1</td>\n",
              "      <td>1</td>\n",
              "      <td>1</td>\n",
              "      <td>3</td>\n",
              "    </tr>\n",
              "    <tr>\n",
              "      <th>1</th>\n",
              "      <td>2</td>\n",
              "      <td>1</td>\n",
              "      <td>1</td>\n",
              "      <td>1</td>\n",
              "      <td>2</td>\n",
              "      <td>2</td>\n",
              "    </tr>\n",
              "    <tr>\n",
              "      <th>2</th>\n",
              "      <td>3</td>\n",
              "      <td>1</td>\n",
              "      <td>1</td>\n",
              "      <td>2</td>\n",
              "      <td>1</td>\n",
              "      <td>3</td>\n",
              "    </tr>\n",
              "    <tr>\n",
              "      <th>3</th>\n",
              "      <td>4</td>\n",
              "      <td>1</td>\n",
              "      <td>1</td>\n",
              "      <td>2</td>\n",
              "      <td>2</td>\n",
              "      <td>1</td>\n",
              "    </tr>\n",
              "    <tr>\n",
              "      <th>4</th>\n",
              "      <td>5</td>\n",
              "      <td>1</td>\n",
              "      <td>2</td>\n",
              "      <td>1</td>\n",
              "      <td>1</td>\n",
              "      <td>3</td>\n",
              "    </tr>\n",
              "  </tbody>\n",
              "</table>\n",
              "</div>\n",
              "      <button class=\"colab-df-convert\" onclick=\"convertToInteractive('df-c3e1591f-3289-47ed-82bc-7e3b264a7316')\"\n",
              "              title=\"Convert this dataframe to an interactive table.\"\n",
              "              style=\"display:none;\">\n",
              "        \n",
              "  <svg xmlns=\"http://www.w3.org/2000/svg\" height=\"24px\"viewBox=\"0 0 24 24\"\n",
              "       width=\"24px\">\n",
              "    <path d=\"M0 0h24v24H0V0z\" fill=\"none\"/>\n",
              "    <path d=\"M18.56 5.44l.94 2.06.94-2.06 2.06-.94-2.06-.94-.94-2.06-.94 2.06-2.06.94zm-11 1L8.5 8.5l.94-2.06 2.06-.94-2.06-.94L8.5 2.5l-.94 2.06-2.06.94zm10 10l.94 2.06.94-2.06 2.06-.94-2.06-.94-.94-2.06-.94 2.06-2.06.94z\"/><path d=\"M17.41 7.96l-1.37-1.37c-.4-.4-.92-.59-1.43-.59-.52 0-1.04.2-1.43.59L10.3 9.45l-7.72 7.72c-.78.78-.78 2.05 0 2.83L4 21.41c.39.39.9.59 1.41.59.51 0 1.02-.2 1.41-.59l7.78-7.78 2.81-2.81c.8-.78.8-2.07 0-2.86zM5.41 20L4 18.59l7.72-7.72 1.47 1.35L5.41 20z\"/>\n",
              "  </svg>\n",
              "      </button>\n",
              "      \n",
              "  <style>\n",
              "    .colab-df-container {\n",
              "      display:flex;\n",
              "      flex-wrap:wrap;\n",
              "      gap: 12px;\n",
              "    }\n",
              "\n",
              "    .colab-df-convert {\n",
              "      background-color: #E8F0FE;\n",
              "      border: none;\n",
              "      border-radius: 50%;\n",
              "      cursor: pointer;\n",
              "      display: none;\n",
              "      fill: #1967D2;\n",
              "      height: 32px;\n",
              "      padding: 0 0 0 0;\n",
              "      width: 32px;\n",
              "    }\n",
              "\n",
              "    .colab-df-convert:hover {\n",
              "      background-color: #E2EBFA;\n",
              "      box-shadow: 0px 1px 2px rgba(60, 64, 67, 0.3), 0px 1px 3px 1px rgba(60, 64, 67, 0.15);\n",
              "      fill: #174EA6;\n",
              "    }\n",
              "\n",
              "    [theme=dark] .colab-df-convert {\n",
              "      background-color: #3B4455;\n",
              "      fill: #D2E3FC;\n",
              "    }\n",
              "\n",
              "    [theme=dark] .colab-df-convert:hover {\n",
              "      background-color: #434B5C;\n",
              "      box-shadow: 0px 1px 3px 1px rgba(0, 0, 0, 0.15);\n",
              "      filter: drop-shadow(0px 1px 2px rgba(0, 0, 0, 0.3));\n",
              "      fill: #FFFFFF;\n",
              "    }\n",
              "  </style>\n",
              "\n",
              "      <script>\n",
              "        const buttonEl =\n",
              "          document.querySelector('#df-c3e1591f-3289-47ed-82bc-7e3b264a7316 button.colab-df-convert');\n",
              "        buttonEl.style.display =\n",
              "          google.colab.kernel.accessAllowed ? 'block' : 'none';\n",
              "\n",
              "        async function convertToInteractive(key) {\n",
              "          const element = document.querySelector('#df-c3e1591f-3289-47ed-82bc-7e3b264a7316');\n",
              "          const dataTable =\n",
              "            await google.colab.kernel.invokeFunction('convertToInteractive',\n",
              "                                                     [key], {});\n",
              "          if (!dataTable) return;\n",
              "\n",
              "          const docLinkHtml = 'Like what you see? Visit the ' +\n",
              "            '<a target=\"_blank\" href=https://colab.research.google.com/notebooks/data_table.ipynb>data table notebook</a>'\n",
              "            + ' to learn more about interactive tables.';\n",
              "          element.innerHTML = '';\n",
              "          dataTable['output_type'] = 'display_data';\n",
              "          await google.colab.output.renderOutput(dataTable, element);\n",
              "          const docLink = document.createElement('div');\n",
              "          docLink.innerHTML = docLinkHtml;\n",
              "          element.appendChild(docLink);\n",
              "        }\n",
              "      </script>\n",
              "    </div>\n",
              "  </div>\n",
              "  "
            ]
          },
          "metadata": {},
          "execution_count": 4
        }
      ]
    },
    {
      "cell_type": "code",
      "source": [
        "X = lenses.drop([\"lenses\",\"id\"], axis=1).values\n",
        "Y = lenses[\"lenses\"].values\n",
        "\n",
        "X_train, X_test, Y_train, Y_test = train_test_split(X, Y, test_size=0.3, random_state=1)"
      ],
      "metadata": {
        "id": "l9vpYTNZgL79"
      },
      "execution_count": 5,
      "outputs": []
    },
    {
      "cell_type": "code",
      "source": [
        "num_classes = len(lenses[\"lenses\"].unique())\n",
        "num_classes"
      ],
      "metadata": {
        "colab": {
          "base_uri": "https://localhost:8080/"
        },
        "id": "I3_kQs1wq-n1",
        "outputId": "21764d6c-2707-4c25-9d69-9477ba528397"
      },
      "execution_count": 6,
      "outputs": [
        {
          "output_type": "execute_result",
          "data": {
            "text/plain": [
              "3"
            ]
          },
          "metadata": {},
          "execution_count": 6
        }
      ]
    },
    {
      "cell_type": "code",
      "source": [
        "from sklearn.tree import DecisionTreeClassifier\n",
        "\n",
        "tree = DecisionTreeClassifier(criterion=\"gini\") \n",
        "history1 = tree.fit(X_train, Y_train)\n",
        "\n",
        "y_pred_train = tree.predict(X_train)\n",
        "y_pred = tree.predict(X_test)\n",
        "\n",
        "dt_accuracy_train = accuracy_score(Y_train, y_pred_train)\n",
        "dt_accuracy_test = accuracy_score(Y_test, y_pred)\n",
        "\n",
        "print(\"Accuracy: Train=%.4f Test=%.4f\" % (dt_accuracy_train,dt_accuracy_test))"
      ],
      "metadata": {
        "colab": {
          "base_uri": "https://localhost:8080/"
        },
        "id": "91L_RaNtgWCl",
        "outputId": "8f1b60f2-b20d-4315-dea6-168b369e77de"
      },
      "execution_count": 7,
      "outputs": [
        {
          "output_type": "stream",
          "name": "stdout",
          "text": [
            "Accuracy: Train=1.0000 Test=0.8750\n"
          ]
        }
      ]
    },
    {
      "cell_type": "code",
      "source": [
        "from sklearn.neighbors import KNeighborsClassifier\n",
        "\n",
        "knn = KNeighborsClassifier(n_neighbors=5)\n",
        "history2 = knn.fit(X_train, Y_train)\n",
        "\n",
        "y_pred_train = knn.predict(X_train)\n",
        "y_pred = knn.predict(X_test)\n",
        "\n",
        "knn_accuracy_train = accuracy_score(Y_train, y_pred_train)\n",
        "knn_accuracy_test = accuracy_score(Y_test, y_pred)\n",
        "\n",
        "print(\"Accuracy: Train=%.4f Test=%.4f\" % (knn_accuracy_train,knn_accuracy_test))"
      ],
      "metadata": {
        "colab": {
          "base_uri": "https://localhost:8080/"
        },
        "id": "s64p4K4HgdXJ",
        "outputId": "d0cea039-8295-441a-bf11-12fc7639bb7e"
      },
      "execution_count": 8,
      "outputs": [
        {
          "output_type": "stream",
          "name": "stdout",
          "text": [
            "Accuracy: Train=0.8125 Test=0.8750\n"
          ]
        }
      ]
    },
    {
      "cell_type": "code",
      "source": [
        "X = lenses.drop([\"lenses\",\"id\"], axis=1)\n",
        "Y = pd.get_dummies(lenses['lenses']) # Convert the categorical target variable into one-hot encoded vectors\n",
        "\n",
        "\n",
        "X_train, X_test, Y_train, Y_test = train_test_split(X, Y, test_size=0.3, random_state=1)"
      ],
      "metadata": {
        "id": "V1b8ozOxyIvG"
      },
      "execution_count": 9,
      "outputs": []
    },
    {
      "cell_type": "code",
      "source": [
        "from keras.models import Sequential\n",
        "from keras.layers import Dense\n",
        "\n",
        "model = Sequential()\n",
        "model.add(Dense(16, input_dim=X_train.shape[1], activation='relu'))\n",
        "model.add(Dense(num_classes, activation='softmax'))\n",
        "\n",
        "model.compile(loss='categorical_crossentropy', optimizer='adam', metrics=['accuracy'])\n",
        "\n",
        "history3 = model.fit(X_train, Y_train, epochs=10, batch_size=32, validation_data=(X_test, Y_test))\n",
        "\n",
        "accuracy = model.evaluate(X_test, Y_test)\n",
        "print('Accuracy: %.2f' % (accuracy[1]*100))\n"
      ],
      "metadata": {
        "colab": {
          "base_uri": "https://localhost:8080/"
        },
        "id": "UursSKBXhjPA",
        "outputId": "6c6198d5-baee-47c8-8538-c153f66dcc48"
      },
      "execution_count": 10,
      "outputs": [
        {
          "output_type": "stream",
          "name": "stdout",
          "text": [
            "Epoch 1/10\n",
            "1/1 [==============================] - 1s 1s/step - loss: 1.4981 - accuracy: 0.1875 - val_loss: 1.7243 - val_accuracy: 0.1250\n",
            "Epoch 2/10\n",
            "1/1 [==============================] - 0s 67ms/step - loss: 1.4807 - accuracy: 0.1875 - val_loss: 1.7015 - val_accuracy: 0.1250\n",
            "Epoch 3/10\n",
            "1/1 [==============================] - 0s 53ms/step - loss: 1.4637 - accuracy: 0.1875 - val_loss: 1.6788 - val_accuracy: 0.1250\n",
            "Epoch 4/10\n",
            "1/1 [==============================] - 0s 52ms/step - loss: 1.4470 - accuracy: 0.1875 - val_loss: 1.6563 - val_accuracy: 0.1250\n",
            "Epoch 5/10\n",
            "1/1 [==============================] - 0s 65ms/step - loss: 1.4307 - accuracy: 0.1875 - val_loss: 1.6342 - val_accuracy: 0.1250\n",
            "Epoch 6/10\n",
            "1/1 [==============================] - 0s 48ms/step - loss: 1.4148 - accuracy: 0.1875 - val_loss: 1.6125 - val_accuracy: 0.1250\n",
            "Epoch 7/10\n",
            "1/1 [==============================] - 0s 41ms/step - loss: 1.3994 - accuracy: 0.1875 - val_loss: 1.5911 - val_accuracy: 0.1250\n",
            "Epoch 8/10\n",
            "1/1 [==============================] - 0s 39ms/step - loss: 1.3843 - accuracy: 0.1875 - val_loss: 1.5701 - val_accuracy: 0.1250\n",
            "Epoch 9/10\n",
            "1/1 [==============================] - 0s 37ms/step - loss: 1.3696 - accuracy: 0.1875 - val_loss: 1.5496 - val_accuracy: 0.1250\n",
            "Epoch 10/10\n",
            "1/1 [==============================] - 0s 37ms/step - loss: 1.3553 - accuracy: 0.1875 - val_loss: 1.5294 - val_accuracy: 0.1250\n",
            "1/1 [==============================] - 0s 27ms/step - loss: 1.5294 - accuracy: 0.1250\n",
            "Accuracy: 12.50\n"
          ]
        }
      ]
    },
    {
      "cell_type": "code",
      "source": [
        "import matplotlib.pyplot as plt\n",
        "\n",
        "\n",
        "nn_acc_train = history3.history['accuracy'][-1]\n",
        "nn_acc_test = accuracy[1]\n",
        "\n",
        "models = ['Decision Tree', 'K-NN', 'Neural Network']\n",
        "accuracy_test = [dt_accuracy_test, knn_accuracy_test, nn_acc_test]\n",
        "\n",
        "plt.bar(models, accuracy_test, color='green', alpha=0.5)\n",
        "plt.legend([ 'Test Accuracy'])\n",
        "plt.title('Accuracy Comparison')\n",
        "plt.show()\n"
      ],
      "metadata": {
        "colab": {
          "base_uri": "https://localhost:8080/",
          "height": 281
        },
        "id": "jvuKEb5Dx4DW",
        "outputId": "f9a34ca8-360d-4461-bf3c-8d49b772be0f"
      },
      "execution_count": 11,
      "outputs": [
        {
          "output_type": "display_data",
          "data": {
            "text/plain": [
              "<Figure size 432x288 with 1 Axes>"
            ],
            "image/png": "[encoded data removed]"
          },
          "metadata": {
            "needs_background": "light"
          }
        }
      ]
    }
  ]
}